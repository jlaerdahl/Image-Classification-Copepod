{
  "cells": [
    {
      "cell_type": "code",
      "execution_count": null,
      "metadata": {
        "id": "RriL6uEnbl8E"
      },
      "outputs": [],
      "source": [
        "import tensorflow_datasets as tfds\n",
        "import tensorflow as tf\n",
        "import os\n",
        "import cv2\n",
        "import numpy as np\n",
        "import tensorflow as tf\n",
        "import matplotlib.pyplot as plt\n",
        "from sklearn.metrics import confusion_matrix, ConfusionMatrixDisplay"
      ]
    },
    {
      "cell_type": "code",
      "execution_count": null,
      "metadata": {},
      "outputs": [],
      "source": [
        "dataset, info = tfds.load(\"tf_flowers\",\n",
        "                          as_supervised=True,\n",
        "                          with_info=True)"
      ]
    },
    {
      "cell_type": "code",
      "execution_count": null,
      "metadata": {
        "id": "SwToEzgVbt1u"
      },
      "outputs": [],
      "source": [
        "dataset_size = info.splits[\"train\"].num_examples\n",
        "class_names = info.features[\"label\"].names\n",
        "n_classes = info. features[\"label\"].num_classes"
      ]
    },
    {
      "cell_type": "code",
      "execution_count": null,
      "metadata": {
        "id": "PRBCyxTncAeH"
      },
      "outputs": [],
      "source": [
        "\n",
        "(test_set_raw, valid_set_raw, train_set_raw), dataset_info = tfds.load(\"tf_flowers\",\n",
        "                        split=[\"train[:10%]\",\n",
        "                               \"train[10%:25%]\",\n",
        "                               \"train[25%:]\"],\n",
        "                        as_supervised=True,\n",
        "                        with_info = True)"
      ]
    },
    {
      "cell_type": "code",
      "execution_count": null,
      "metadata": {
        "id": "z8M_BmYOdXdR"
      },
      "outputs": [],
      "source": [
        "def preprocess(image,label):\n",
        "    resized_image = tf.image.resize(image, [224,224])\n",
        "    final_image = tf.keras.applications.xception.preprocess_input(resized_image)\n",
        "    return final_image, label\n"
      ]
    },
    {
      "cell_type": "code",
      "execution_count": null,
      "metadata": {},
      "outputs": [],
      "source": [
        "batch_size = 32\n",
        "train_set = train_set_raw.shuffle(1000)\n",
        "train_set = train_set.map(preprocess).batch(batch_size).prefetch(1)\n",
        "valid_set = valid_set_raw.map(preprocess).batch(batch_size).prefetch(1)\n",
        "test_set = test_set_raw.map(preprocess).batch(batch_size).prefetch(1)"
      ]
    },
    {
      "cell_type": "code",
      "execution_count": null,
      "metadata": {
        "colab": {
          "base_uri": "https://localhost:8080/"
        },
        "id": "IHGF1v1_eU2U",
        "outputId": "42775e7e-d29e-41fc-e662-b7f44c6b3ad9"
      },
      "outputs": [],
      "source": [
        "base_model = tf.keras.applications.ResNet50(weights=\"imagenet\",\n",
        "                                            include_top=False)\n",
        "\n",
        "\n",
        "avg = tf.keras.layers.GlobalAveragePooling2D()(base_model.output)\n",
        "output = tf.keras.layers.Dense(n_classes, activation=\"softmax\")(avg)\n",
        "\n",
        "\n",
        "model = tf.keras.Model(inputs=base_model.input, outputs=output)"
      ]
    },
    {
      "cell_type": "code",
      "execution_count": null,
      "metadata": {
        "id": "1Dx3bFypf8-w"
      },
      "outputs": [],
      "source": [
        "for layer in base_model.layers:\n",
        "  layer.trainable = False"
      ]
    },
    {
      "cell_type": "code",
      "execution_count": null,
      "metadata": {
        "colab": {
          "base_uri": "https://localhost:8080/"
        },
        "id": "VWTzFTapgNA9",
        "outputId": "66fc6c3c-80c5-438f-ac3a-f5557330d5d5"
      },
      "outputs": [],
      "source": [
        "optimizer = tf.keras.optimizers.Adam(learning_rate=0.2)\n",
        "\n",
        "model.compile(loss=\"sparse_categorical_crossentropy\",\n",
        "              optimizer=optimizer,\n",
        "              metrics=[\"accuracy\"])\n",
        "\n",
        "\n",
        "history = model.fit(train_set,\n",
        "                    epochs=5,\n",
        "                    validation_data=valid_set)"
      ]
    },
    {
      "cell_type": "code",
      "execution_count": null,
      "metadata": {
        "id": "kDW2Ktf5g1Ua"
      },
      "outputs": [],
      "source": [
        "for layer in base_model.layers:\n",
        "  layer.trainable = True"
      ]
    },
    {
      "cell_type": "code",
      "execution_count": null,
      "metadata": {
        "colab": {
          "base_uri": "https://localhost:8080/"
        },
        "id": "wXGos54dkGDZ",
        "outputId": "b320ae07-46ba-4553-dfc3-7c4604291330"
      },
      "outputs": [],
      "source": [
        "optimizer = tf.keras.optimizers.Adam(lr=0.2)\n",
        "\n",
        "model.compile(loss=\"sparse_categorical_crossentropy\",\n",
        "              optimizer=optimizer,\n",
        "              metrics=[\"accuracy\"])\n",
        "\n",
        "history = model.fit(train_set,\n",
        "                    epochs=10,\n",
        "                    validation_data=valid_set)"
      ]
    },
    {
      "cell_type": "code",
      "execution_count": null,
      "metadata": {},
      "outputs": [],
      "source": [
        "class_names = np.array(dataset_info.features['label'].names)\n",
        "print(class_names)"
      ]
    },
    {
      "cell_type": "code",
      "execution_count": null,
      "metadata": {},
      "outputs": [],
      "source": [
        "image_batch, label_batch = next(iter(valid_set))\n",
        "image_batch = image_batch.numpy()\n",
        "label_batch = label_batch.numpy()\n",
        "\n",
        "predicted_batch = model.predict(image_batch)\n",
        "predicted_batch = tf.squeeze(predicted_batch).numpy()\n",
        "predicted_ids = np.argmax(predicted_batch, axis=-1)\n",
        "predicted_class_names = class_names[predicted_ids]"
      ]
    },
    {
      "cell_type": "code",
      "execution_count": null,
      "metadata": {},
      "outputs": [],
      "source": [
        "sum = 0\n",
        "for i in range(len(predicted_ids)):\n",
        "    if label_batch[i] == predicted_ids[i]:\n",
        "        sum += 1\n",
        "\n",
        "print(\"Accuracy = \", sum/len(predicted_ids))"
      ]
    },
    {
      "cell_type": "code",
      "execution_count": null,
      "metadata": {},
      "outputs": [],
      "source": [
        "plt.figure(figsize=(10,10))\n",
        "for n in range(30):\n",
        "    plt.subplot(6,5,n+1)\n",
        "    plt.subplots_adjust(hspace = 0.3)\n",
        "    plt.imshow(image_batch[n])\n",
        "    color = \"blue\" if predicted_ids[n] == label_batch[n] else \"red\"\n",
        "    plt.title(predicted_class_names[n].title(), color=color)\n",
        "    plt.axis('off')\n",
        "_ = plt.suptitle(\"Model predictions (blue: correct, red: incorrect)\")"
      ]
    }
  ],
  "metadata": {
    "accelerator": "GPU",
    "colab": {
      "provenance": []
    },
    "kernelspec": {
      "display_name": "Python 3.10.6 64-bit",
      "language": "python",
      "name": "python3"
    },
    "language_info": {
      "codemirror_mode": {
        "name": "ipython",
        "version": 3
      },
      "file_extension": ".py",
      "mimetype": "text/x-python",
      "name": "python",
      "nbconvert_exporter": "python",
      "pygments_lexer": "ipython3",
      "version": "3.11.7"
    },
    "vscode": {
      "interpreter": {
        "hash": "aee8b7b246df8f9039afb4144a1f6fd8d2ca17a180786b69acc140d282b71a49"
      }
    }
  },
  "nbformat": 4,
  "nbformat_minor": 0
}
